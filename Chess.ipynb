{
 "cells": [
  {
   "cell_type": "markdown",
   "id": "6f9f44bd",
   "metadata": {},
   "source": [
    "## Imports"
   ]
  },
  {
   "cell_type": "code",
   "execution_count": 5,
   "id": "565f6127",
   "metadata": {},
   "outputs": [],
   "source": [
    "# import warnings; warnings.simplefilter('ignore')\n",
    "import matplotlib.pyplot as plt\n",
    "import pandas as pd\n",
    "import numpy as np\n",
    "import random\n",
    "import time\n",
    "import graphviz\n",
    "from sklearn.model_selection import train_test_split\n",
    "from sklearn.preprocessing import LabelEncoder \n",
    "# decision tree\n",
    "import sklearn.tree as tree\n",
    "from sklearn.tree import DecisionTreeClassifier\n",
    "from sklearn.model_selection import ShuffleSplit\n",
    "from sklearn.model_selection import GridSearchCV\n",
    "# boost\n",
    "from sklearn.ensemble import AdaBoostClassifier\n",
    "# knn\n",
    "from sklearn.neighbors import KNeighborsClassifier\n",
    "# svm\n",
    "from sklearn import preprocessing\n",
    "from sklearn import svm\n",
    "# nn\n",
    "from sklearn.neural_network import MLPClassifier\n",
    "## Model \n",
    "from sklearn.metrics import classification_report, confusion_matrix\n",
    "from sklearn.model_selection import validation_curve\n",
    "from sklearn.model_selection import learning_curve\n",
    "from sklearn.metrics import accuracy_score\n",
    "from sklearn.metrics import confusion_matrix"
   ]
  },
  {
   "cell_type": "code",
   "execution_count": 44,
   "id": "e0e85072",
   "metadata": {},
   "outputs": [
    {
     "data": {
      "text/html": [
       "<div>\n",
       "<style scoped>\n",
       "    .dataframe tbody tr th:only-of-type {\n",
       "        vertical-align: middle;\n",
       "    }\n",
       "\n",
       "    .dataframe tbody tr th {\n",
       "        vertical-align: top;\n",
       "    }\n",
       "\n",
       "    .dataframe thead th {\n",
       "        text-align: right;\n",
       "    }\n",
       "</style>\n",
       "<table border=\"1\" class=\"dataframe\">\n",
       "  <thead>\n",
       "    <tr style=\"text-align: right;\">\n",
       "      <th></th>\n",
       "      <th>id</th>\n",
       "      <th>rated</th>\n",
       "      <th>created_at</th>\n",
       "      <th>last_move_at</th>\n",
       "      <th>turns</th>\n",
       "      <th>victory_status</th>\n",
       "      <th>winner</th>\n",
       "      <th>increment_code</th>\n",
       "      <th>white_id</th>\n",
       "      <th>white_rating</th>\n",
       "      <th>black_id</th>\n",
       "      <th>black_rating</th>\n",
       "      <th>moves</th>\n",
       "      <th>opening_eco</th>\n",
       "      <th>opening_name</th>\n",
       "      <th>opening_ply</th>\n",
       "    </tr>\n",
       "  </thead>\n",
       "  <tbody>\n",
       "    <tr>\n",
       "      <th>0</th>\n",
       "      <td>TZJHLljE</td>\n",
       "      <td>False</td>\n",
       "      <td>1.504210e+12</td>\n",
       "      <td>1.504210e+12</td>\n",
       "      <td>13</td>\n",
       "      <td>outoftime</td>\n",
       "      <td>white</td>\n",
       "      <td>15+2</td>\n",
       "      <td>bourgris</td>\n",
       "      <td>1500</td>\n",
       "      <td>a-00</td>\n",
       "      <td>1191</td>\n",
       "      <td>d4 d5 c4 c6 cxd5 e6 dxe6 fxe6 Nf3 Bb4+ Nc3 Ba5...</td>\n",
       "      <td>D10</td>\n",
       "      <td>Slav Defense: Exchange Variation</td>\n",
       "      <td>5</td>\n",
       "    </tr>\n",
       "    <tr>\n",
       "      <th>1</th>\n",
       "      <td>l1NXvwaE</td>\n",
       "      <td>True</td>\n",
       "      <td>1.504130e+12</td>\n",
       "      <td>1.504130e+12</td>\n",
       "      <td>16</td>\n",
       "      <td>resign</td>\n",
       "      <td>black</td>\n",
       "      <td>5+10</td>\n",
       "      <td>a-00</td>\n",
       "      <td>1322</td>\n",
       "      <td>skinnerua</td>\n",
       "      <td>1261</td>\n",
       "      <td>d4 Nc6 e4 e5 f4 f6 dxe5 fxe5 fxe5 Nxe5 Qd4 Nc6...</td>\n",
       "      <td>B00</td>\n",
       "      <td>Nimzowitsch Defense: Kennedy Variation</td>\n",
       "      <td>4</td>\n",
       "    </tr>\n",
       "    <tr>\n",
       "      <th>2</th>\n",
       "      <td>mIICvQHh</td>\n",
       "      <td>True</td>\n",
       "      <td>1.504130e+12</td>\n",
       "      <td>1.504130e+12</td>\n",
       "      <td>61</td>\n",
       "      <td>mate</td>\n",
       "      <td>white</td>\n",
       "      <td>5+10</td>\n",
       "      <td>ischia</td>\n",
       "      <td>1496</td>\n",
       "      <td>a-00</td>\n",
       "      <td>1500</td>\n",
       "      <td>e4 e5 d3 d6 Be3 c6 Be2 b5 Nd2 a5 a4 c5 axb5 Nc...</td>\n",
       "      <td>C20</td>\n",
       "      <td>King's Pawn Game: Leonardis Variation</td>\n",
       "      <td>3</td>\n",
       "    </tr>\n",
       "    <tr>\n",
       "      <th>3</th>\n",
       "      <td>kWKvrqYL</td>\n",
       "      <td>True</td>\n",
       "      <td>1.504110e+12</td>\n",
       "      <td>1.504110e+12</td>\n",
       "      <td>61</td>\n",
       "      <td>mate</td>\n",
       "      <td>white</td>\n",
       "      <td>20+0</td>\n",
       "      <td>daniamurashov</td>\n",
       "      <td>1439</td>\n",
       "      <td>adivanov2009</td>\n",
       "      <td>1454</td>\n",
       "      <td>d4 d5 Nf3 Bf5 Nc3 Nf6 Bf4 Ng4 e3 Nc6 Be2 Qd7 O...</td>\n",
       "      <td>D02</td>\n",
       "      <td>Queen's Pawn Game: Zukertort Variation</td>\n",
       "      <td>3</td>\n",
       "    </tr>\n",
       "    <tr>\n",
       "      <th>4</th>\n",
       "      <td>9tXo1AUZ</td>\n",
       "      <td>True</td>\n",
       "      <td>1.504030e+12</td>\n",
       "      <td>1.504030e+12</td>\n",
       "      <td>95</td>\n",
       "      <td>mate</td>\n",
       "      <td>white</td>\n",
       "      <td>30+3</td>\n",
       "      <td>nik221107</td>\n",
       "      <td>1523</td>\n",
       "      <td>adivanov2009</td>\n",
       "      <td>1469</td>\n",
       "      <td>e4 e5 Nf3 d6 d4 Nc6 d5 Nb4 a3 Na6 Nc3 Be7 b4 N...</td>\n",
       "      <td>C41</td>\n",
       "      <td>Philidor Defense</td>\n",
       "      <td>5</td>\n",
       "    </tr>\n",
       "    <tr>\n",
       "      <th>...</th>\n",
       "      <td>...</td>\n",
       "      <td>...</td>\n",
       "      <td>...</td>\n",
       "      <td>...</td>\n",
       "      <td>...</td>\n",
       "      <td>...</td>\n",
       "      <td>...</td>\n",
       "      <td>...</td>\n",
       "      <td>...</td>\n",
       "      <td>...</td>\n",
       "      <td>...</td>\n",
       "      <td>...</td>\n",
       "      <td>...</td>\n",
       "      <td>...</td>\n",
       "      <td>...</td>\n",
       "      <td>...</td>\n",
       "    </tr>\n",
       "    <tr>\n",
       "      <th>20053</th>\n",
       "      <td>EfqH7VVH</td>\n",
       "      <td>True</td>\n",
       "      <td>1.499791e+12</td>\n",
       "      <td>1.499791e+12</td>\n",
       "      <td>24</td>\n",
       "      <td>resign</td>\n",
       "      <td>white</td>\n",
       "      <td>10+10</td>\n",
       "      <td>belcolt</td>\n",
       "      <td>1691</td>\n",
       "      <td>jamboger</td>\n",
       "      <td>1220</td>\n",
       "      <td>d4 f5 e3 e6 Nf3 Nf6 Nc3 b6 Be2 Bb7 O-O Be7 Ne5...</td>\n",
       "      <td>A80</td>\n",
       "      <td>Dutch Defense</td>\n",
       "      <td>2</td>\n",
       "    </tr>\n",
       "    <tr>\n",
       "      <th>20054</th>\n",
       "      <td>WSJDhbPl</td>\n",
       "      <td>True</td>\n",
       "      <td>1.499698e+12</td>\n",
       "      <td>1.499699e+12</td>\n",
       "      <td>82</td>\n",
       "      <td>mate</td>\n",
       "      <td>black</td>\n",
       "      <td>10+0</td>\n",
       "      <td>jamboger</td>\n",
       "      <td>1233</td>\n",
       "      <td>farrukhasomiddinov</td>\n",
       "      <td>1196</td>\n",
       "      <td>d4 d6 Bf4 e5 Bg3 Nf6 e3 exd4 exd4 d5 c3 Bd6 Bd...</td>\n",
       "      <td>A41</td>\n",
       "      <td>Queen's Pawn</td>\n",
       "      <td>2</td>\n",
       "    </tr>\n",
       "    <tr>\n",
       "      <th>20055</th>\n",
       "      <td>yrAas0Kj</td>\n",
       "      <td>True</td>\n",
       "      <td>1.499698e+12</td>\n",
       "      <td>1.499698e+12</td>\n",
       "      <td>35</td>\n",
       "      <td>mate</td>\n",
       "      <td>white</td>\n",
       "      <td>10+0</td>\n",
       "      <td>jamboger</td>\n",
       "      <td>1219</td>\n",
       "      <td>schaaksmurf3</td>\n",
       "      <td>1286</td>\n",
       "      <td>d4 d5 Bf4 Nc6 e3 Nf6 c3 e6 Nf3 Be7 Bd3 O-O Nbd...</td>\n",
       "      <td>D00</td>\n",
       "      <td>Queen's Pawn Game: Mason Attack</td>\n",
       "      <td>3</td>\n",
       "    </tr>\n",
       "    <tr>\n",
       "      <th>20056</th>\n",
       "      <td>b0v4tRyF</td>\n",
       "      <td>True</td>\n",
       "      <td>1.499696e+12</td>\n",
       "      <td>1.499697e+12</td>\n",
       "      <td>109</td>\n",
       "      <td>resign</td>\n",
       "      <td>white</td>\n",
       "      <td>10+0</td>\n",
       "      <td>marcodisogno</td>\n",
       "      <td>1360</td>\n",
       "      <td>jamboger</td>\n",
       "      <td>1227</td>\n",
       "      <td>e4 d6 d4 Nf6 e5 dxe5 dxe5 Qxd1+ Kxd1 Nd5 c4 Nb...</td>\n",
       "      <td>B07</td>\n",
       "      <td>Pirc Defense</td>\n",
       "      <td>4</td>\n",
       "    </tr>\n",
       "    <tr>\n",
       "      <th>20057</th>\n",
       "      <td>N8G2JHGG</td>\n",
       "      <td>True</td>\n",
       "      <td>1.499643e+12</td>\n",
       "      <td>1.499644e+12</td>\n",
       "      <td>78</td>\n",
       "      <td>mate</td>\n",
       "      <td>black</td>\n",
       "      <td>10+0</td>\n",
       "      <td>jamboger</td>\n",
       "      <td>1235</td>\n",
       "      <td>ffbob</td>\n",
       "      <td>1339</td>\n",
       "      <td>d4 d5 Bf4 Na6 e3 e6 c3 Nf6 Nf3 Bd7 Nbd2 b5 Bd3...</td>\n",
       "      <td>D00</td>\n",
       "      <td>Queen's Pawn Game: Mason Attack</td>\n",
       "      <td>3</td>\n",
       "    </tr>\n",
       "  </tbody>\n",
       "</table>\n",
       "<p>20058 rows × 16 columns</p>\n",
       "</div>"
      ],
      "text/plain": [
       "             id  rated    created_at  last_move_at  turns victory_status  \\\n",
       "0      TZJHLljE  False  1.504210e+12  1.504210e+12     13      outoftime   \n",
       "1      l1NXvwaE   True  1.504130e+12  1.504130e+12     16         resign   \n",
       "2      mIICvQHh   True  1.504130e+12  1.504130e+12     61           mate   \n",
       "3      kWKvrqYL   True  1.504110e+12  1.504110e+12     61           mate   \n",
       "4      9tXo1AUZ   True  1.504030e+12  1.504030e+12     95           mate   \n",
       "...         ...    ...           ...           ...    ...            ...   \n",
       "20053  EfqH7VVH   True  1.499791e+12  1.499791e+12     24         resign   \n",
       "20054  WSJDhbPl   True  1.499698e+12  1.499699e+12     82           mate   \n",
       "20055  yrAas0Kj   True  1.499698e+12  1.499698e+12     35           mate   \n",
       "20056  b0v4tRyF   True  1.499696e+12  1.499697e+12    109         resign   \n",
       "20057  N8G2JHGG   True  1.499643e+12  1.499644e+12     78           mate   \n",
       "\n",
       "      winner increment_code       white_id  white_rating            black_id  \\\n",
       "0      white           15+2       bourgris          1500                a-00   \n",
       "1      black           5+10           a-00          1322           skinnerua   \n",
       "2      white           5+10         ischia          1496                a-00   \n",
       "3      white           20+0  daniamurashov          1439        adivanov2009   \n",
       "4      white           30+3      nik221107          1523        adivanov2009   \n",
       "...      ...            ...            ...           ...                 ...   \n",
       "20053  white          10+10        belcolt          1691            jamboger   \n",
       "20054  black           10+0       jamboger          1233  farrukhasomiddinov   \n",
       "20055  white           10+0       jamboger          1219        schaaksmurf3   \n",
       "20056  white           10+0   marcodisogno          1360            jamboger   \n",
       "20057  black           10+0       jamboger          1235               ffbob   \n",
       "\n",
       "       black_rating                                              moves  \\\n",
       "0              1191  d4 d5 c4 c6 cxd5 e6 dxe6 fxe6 Nf3 Bb4+ Nc3 Ba5...   \n",
       "1              1261  d4 Nc6 e4 e5 f4 f6 dxe5 fxe5 fxe5 Nxe5 Qd4 Nc6...   \n",
       "2              1500  e4 e5 d3 d6 Be3 c6 Be2 b5 Nd2 a5 a4 c5 axb5 Nc...   \n",
       "3              1454  d4 d5 Nf3 Bf5 Nc3 Nf6 Bf4 Ng4 e3 Nc6 Be2 Qd7 O...   \n",
       "4              1469  e4 e5 Nf3 d6 d4 Nc6 d5 Nb4 a3 Na6 Nc3 Be7 b4 N...   \n",
       "...             ...                                                ...   \n",
       "20053          1220  d4 f5 e3 e6 Nf3 Nf6 Nc3 b6 Be2 Bb7 O-O Be7 Ne5...   \n",
       "20054          1196  d4 d6 Bf4 e5 Bg3 Nf6 e3 exd4 exd4 d5 c3 Bd6 Bd...   \n",
       "20055          1286  d4 d5 Bf4 Nc6 e3 Nf6 c3 e6 Nf3 Be7 Bd3 O-O Nbd...   \n",
       "20056          1227  e4 d6 d4 Nf6 e5 dxe5 dxe5 Qxd1+ Kxd1 Nd5 c4 Nb...   \n",
       "20057          1339  d4 d5 Bf4 Na6 e3 e6 c3 Nf6 Nf3 Bd7 Nbd2 b5 Bd3...   \n",
       "\n",
       "      opening_eco                            opening_name  opening_ply  \n",
       "0             D10        Slav Defense: Exchange Variation            5  \n",
       "1             B00  Nimzowitsch Defense: Kennedy Variation            4  \n",
       "2             C20   King's Pawn Game: Leonardis Variation            3  \n",
       "3             D02  Queen's Pawn Game: Zukertort Variation            3  \n",
       "4             C41                        Philidor Defense            5  \n",
       "...           ...                                     ...          ...  \n",
       "20053         A80                           Dutch Defense            2  \n",
       "20054         A41                            Queen's Pawn            2  \n",
       "20055         D00         Queen's Pawn Game: Mason Attack            3  \n",
       "20056         B07                            Pirc Defense            4  \n",
       "20057         D00         Queen's Pawn Game: Mason Attack            3  \n",
       "\n",
       "[20058 rows x 16 columns]"
      ]
     },
     "execution_count": 44,
     "metadata": {},
     "output_type": "execute_result"
    }
   ],
   "source": [
    "games = pd.read_csv(\"games.csv\")\n",
    "games.count()\n",
    "games"
   ]
  },
  {
   "cell_type": "code",
   "execution_count": 6,
   "id": "f7639ef8",
   "metadata": {},
   "outputs": [
    {
     "data": {
      "text/html": [
       "<div>\n",
       "<style scoped>\n",
       "    .dataframe tbody tr th:only-of-type {\n",
       "        vertical-align: middle;\n",
       "    }\n",
       "\n",
       "    .dataframe tbody tr th {\n",
       "        vertical-align: top;\n",
       "    }\n",
       "\n",
       "    .dataframe thead th {\n",
       "        text-align: right;\n",
       "    }\n",
       "</style>\n",
       "<table border=\"1\" class=\"dataframe\">\n",
       "  <thead>\n",
       "    <tr style=\"text-align: right;\">\n",
       "      <th></th>\n",
       "      <th>rated</th>\n",
       "      <th>turns</th>\n",
       "      <th>victory_status</th>\n",
       "      <th>winner</th>\n",
       "      <th>increment_code</th>\n",
       "      <th>white_rating</th>\n",
       "      <th>black_rating</th>\n",
       "      <th>opening_eco</th>\n",
       "      <th>opening_name</th>\n",
       "      <th>opening_ply</th>\n",
       "    </tr>\n",
       "  </thead>\n",
       "  <tbody>\n",
       "    <tr>\n",
       "      <th>0</th>\n",
       "      <td>0</td>\n",
       "      <td>13</td>\n",
       "      <td>2</td>\n",
       "      <td>2</td>\n",
       "      <td>110</td>\n",
       "      <td>1500</td>\n",
       "      <td>1191</td>\n",
       "      <td>248</td>\n",
       "      <td>1387</td>\n",
       "      <td>5</td>\n",
       "    </tr>\n",
       "    <tr>\n",
       "      <th>1</th>\n",
       "      <td>1</td>\n",
       "      <td>16</td>\n",
       "      <td>3</td>\n",
       "      <td>0</td>\n",
       "      <td>298</td>\n",
       "      <td>1322</td>\n",
       "      <td>1261</td>\n",
       "      <td>71</td>\n",
       "      <td>750</td>\n",
       "      <td>4</td>\n",
       "    </tr>\n",
       "    <tr>\n",
       "      <th>2</th>\n",
       "      <td>1</td>\n",
       "      <td>61</td>\n",
       "      <td>1</td>\n",
       "      <td>2</td>\n",
       "      <td>298</td>\n",
       "      <td>1496</td>\n",
       "      <td>1500</td>\n",
       "      <td>171</td>\n",
       "      <td>650</td>\n",
       "      <td>3</td>\n",
       "    </tr>\n",
       "    <tr>\n",
       "      <th>3</th>\n",
       "      <td>1</td>\n",
       "      <td>61</td>\n",
       "      <td>1</td>\n",
       "      <td>2</td>\n",
       "      <td>187</td>\n",
       "      <td>1439</td>\n",
       "      <td>1454</td>\n",
       "      <td>241</td>\n",
       "      <td>992</td>\n",
       "      <td>3</td>\n",
       "    </tr>\n",
       "    <tr>\n",
       "      <th>4</th>\n",
       "      <td>1</td>\n",
       "      <td>95</td>\n",
       "      <td>1</td>\n",
       "      <td>2</td>\n",
       "      <td>247</td>\n",
       "      <td>1523</td>\n",
       "      <td>1469</td>\n",
       "      <td>192</td>\n",
       "      <td>783</td>\n",
       "      <td>5</td>\n",
       "    </tr>\n",
       "    <tr>\n",
       "      <th>...</th>\n",
       "      <td>...</td>\n",
       "      <td>...</td>\n",
       "      <td>...</td>\n",
       "      <td>...</td>\n",
       "      <td>...</td>\n",
       "      <td>...</td>\n",
       "      <td>...</td>\n",
       "      <td>...</td>\n",
       "      <td>...</td>\n",
       "      <td>...</td>\n",
       "    </tr>\n",
       "    <tr>\n",
       "      <th>20053</th>\n",
       "      <td>1</td>\n",
       "      <td>24</td>\n",
       "      <td>3</td>\n",
       "      <td>2</td>\n",
       "      <td>21</td>\n",
       "      <td>1691</td>\n",
       "      <td>1220</td>\n",
       "      <td>61</td>\n",
       "      <td>191</td>\n",
       "      <td>2</td>\n",
       "    </tr>\n",
       "    <tr>\n",
       "      <th>20054</th>\n",
       "      <td>1</td>\n",
       "      <td>82</td>\n",
       "      <td>1</td>\n",
       "      <td>0</td>\n",
       "      <td>19</td>\n",
       "      <td>1233</td>\n",
       "      <td>1196</td>\n",
       "      <td>37</td>\n",
       "      <td>960</td>\n",
       "      <td>2</td>\n",
       "    </tr>\n",
       "    <tr>\n",
       "      <th>20055</th>\n",
       "      <td>1</td>\n",
       "      <td>35</td>\n",
       "      <td>1</td>\n",
       "      <td>2</td>\n",
       "      <td>19</td>\n",
       "      <td>1219</td>\n",
       "      <td>1286</td>\n",
       "      <td>239</td>\n",
       "      <td>977</td>\n",
       "      <td>3</td>\n",
       "    </tr>\n",
       "    <tr>\n",
       "      <th>20056</th>\n",
       "      <td>1</td>\n",
       "      <td>109</td>\n",
       "      <td>3</td>\n",
       "      <td>2</td>\n",
       "      <td>19</td>\n",
       "      <td>1360</td>\n",
       "      <td>1227</td>\n",
       "      <td>78</td>\n",
       "      <td>806</td>\n",
       "      <td>4</td>\n",
       "    </tr>\n",
       "    <tr>\n",
       "      <th>20057</th>\n",
       "      <td>1</td>\n",
       "      <td>78</td>\n",
       "      <td>1</td>\n",
       "      <td>0</td>\n",
       "      <td>19</td>\n",
       "      <td>1235</td>\n",
       "      <td>1339</td>\n",
       "      <td>239</td>\n",
       "      <td>977</td>\n",
       "      <td>3</td>\n",
       "    </tr>\n",
       "  </tbody>\n",
       "</table>\n",
       "<p>20058 rows × 10 columns</p>\n",
       "</div>"
      ],
      "text/plain": [
       "       rated  turns  victory_status  winner  increment_code  white_rating  \\\n",
       "0          0     13               2       2             110          1500   \n",
       "1          1     16               3       0             298          1322   \n",
       "2          1     61               1       2             298          1496   \n",
       "3          1     61               1       2             187          1439   \n",
       "4          1     95               1       2             247          1523   \n",
       "...      ...    ...             ...     ...             ...           ...   \n",
       "20053      1     24               3       2              21          1691   \n",
       "20054      1     82               1       0              19          1233   \n",
       "20055      1     35               1       2              19          1219   \n",
       "20056      1    109               3       2              19          1360   \n",
       "20057      1     78               1       0              19          1235   \n",
       "\n",
       "       black_rating  opening_eco  opening_name  opening_ply  \n",
       "0              1191          248          1387            5  \n",
       "1              1261           71           750            4  \n",
       "2              1500          171           650            3  \n",
       "3              1454          241           992            3  \n",
       "4              1469          192           783            5  \n",
       "...             ...          ...           ...          ...  \n",
       "20053          1220           61           191            2  \n",
       "20054          1196           37           960            2  \n",
       "20055          1286          239           977            3  \n",
       "20056          1227           78           806            4  \n",
       "20057          1339          239           977            3  \n",
       "\n",
       "[20058 rows x 10 columns]"
      ]
     },
     "execution_count": 6,
     "metadata": {},
     "output_type": "execute_result"
    }
   ],
   "source": [
    "games = pd.read_csv(\"games.csv\")\n",
    "games.count()\n",
    "cleaned_games = games.drop(['id', 'white_id', 'black_id', 'moves','created_at','last_move_at'], axis=1)\n",
    "labelencoder = LabelEncoder()\n",
    "cleaned_games['winner'] = labelencoder.fit_transform(cleaned_games['winner'])\n",
    "cleaned_games['rated'] = labelencoder.fit_transform(cleaned_games['rated'])\n",
    "cleaned_games['victory_status'] = labelencoder.fit_transform(cleaned_games['victory_status'])\n",
    "cleaned_games['increment_code'] = labelencoder.fit_transform(cleaned_games['increment_code'])\n",
    "cleaned_games['opening_eco'] = labelencoder.fit_transform(cleaned_games['opening_eco'])\n",
    "cleaned_games['opening_name'] = labelencoder.fit_transform(cleaned_games['opening_name'])\n",
    "cleaned_games\n"
   ]
  },
  {
   "cell_type": "code",
   "execution_count": null,
   "id": "e8436514",
   "metadata": {},
   "outputs": [],
   "source": []
  },
  {
   "cell_type": "code",
   "execution_count": 7,
   "id": "62ac9513",
   "metadata": {},
   "outputs": [],
   "source": [
    "X = cleaned_games.drop('winner', axis=1)\n",
    "y = cleaned_games['winner']\n",
    "X_train, X_test, y_train, y_test = train_test_split(X, y, test_size=0.25, random_state = 0)"
   ]
  },
  {
   "cell_type": "code",
   "execution_count": 8,
   "id": "d6373569",
   "metadata": {},
   "outputs": [],
   "source": [
    "\n",
    "def draw_validation_curve( algo , param, train_scores, valid_scores ):\n",
    "#     train_scores, valid_scores = validation_curve(classifier, X, y, param ,graph_range ,cv=cv ,n_jobs=n_jobs)\n",
    "    train_scores_mean = np.mean(train_scores,axis=1)\n",
    "    train_scores_std = np.std(train_scores, axis=1)\n",
    "    test_scores_mean = np.mean(valid_scores, axis=1)\n",
    "    test_scores_std = np.std(valid_scores, axis=1)\n",
    "    q20 = plt.figure(1)\n",
    "    ax20 = q20.add_subplot(111)\n",
    "    ax20.plot(1 - train_scores_mean,label = 'Training Error')\n",
    "    ax20.plot(1 - test_scores_mean,label = 'Testing Error')\n",
    "    ax20.set_ylabel('Error')\n",
    "    ax20.set_xlabel(param)\n",
    "    ax20.set_title( algo + ' - ' + param )\n",
    "    ax20.legend(loc=0)"
   ]
  },
  {
   "cell_type": "code",
   "execution_count": 9,
   "id": "2ba0708e",
   "metadata": {},
   "outputs": [],
   "source": [
    "def draw_learning_curve(algo, train_sizes, train_scores, test_scores):\n",
    "    cv = ShuffleSplit(n_splits=10, test_size=0.25, random_state=0)    \n",
    "    train_scores_mean = np.mean(train_scores,axis=1)\n",
    "    train_scores_std = np.std(train_scores, axis=1)\n",
    "    test_scores_mean = np.mean(test_scores, axis=1)\n",
    "    test_scores_std = np.std(test_scores, axis=1)\n",
    "    q20 = plt.figure(2)\n",
    "    ax20 = q20.add_subplot(111)\n",
    "    ax20.plot(train_sizes,1 - train_scores_mean,label = 'Training Error')\n",
    "    ax20.plot(train_sizes,1 - test_scores_mean,label = 'Testing Error')\n",
    "    ax20.set_ylabel('Error')\n",
    "    ax20.set_xlabel('Data Size')\n",
    "    ax20.set_title('Learning Curve for ' + algo)\n",
    "    ax20.legend(loc=0)\n",
    "    prediction = clf.predict(X_test)\n",
    "    accuracy = accuracy_score(y_test,prediction)\n",
    "    confusionMatrix = confusion_matrix(y_test,prediction)\n",
    "    print (confusion_matrix)"
   ]
  },
  {
   "cell_type": "code",
   "execution_count": null,
   "id": "b75d61b6",
   "metadata": {},
   "outputs": [],
   "source": [
    "## decision tree"
   ]
  },
  {
   "cell_type": "code",
   "execution_count": 11,
   "id": "00855b79",
   "metadata": {},
   "outputs": [],
   "source": [
    "parameters = {'criterion':('entropy', 'gini'),\\\n",
    "              'max_depth':np.arange(start=1,stop=25),\\\n",
    "              'random_state':[1,2,3],\\\n",
    "              'max_features':('auto','sqrt','log2',None),\\\n",
    "              'max_leaf_nodes':[2,10,500,1000],\\\n",
    "              'min_samples_split':[1,2,10]}"
   ]
  },
  {
   "cell_type": "code",
   "execution_count": 12,
   "id": "1cda0fb1",
   "metadata": {},
   "outputs": [
    {
     "name": "stderr",
     "output_type": "stream",
     "text": [
      "/Users/sam/opt/anaconda3/lib/python3.8/site-packages/sklearn/model_selection/_search.py:918: UserWarning: One or more of the test scores are non-finite: [       nan        nan        nan ... 0.62913032 0.62746811 0.62952888]\n",
      "  warnings.warn(\n"
     ]
    },
    {
     "data": {
      "text/plain": [
       "GridSearchCV(cv=5, estimator=DecisionTreeClassifier(max_depth=20), n_jobs=13,\n",
       "             param_grid={'criterion': ('entropy', 'gini'),\n",
       "                         'max_depth': array([ 1,  2,  3,  4,  5,  6,  7,  8,  9, 10, 11, 12, 13, 14, 15, 16, 17,\n",
       "       18, 19, 20, 21, 22, 23, 24]),\n",
       "                         'max_features': ('auto', 'sqrt', 'log2', None),\n",
       "                         'max_leaf_nodes': [2, 10, 500, 1000],\n",
       "                         'min_samples_split': [1, 2, 10],\n",
       "                         'random_state': [1, 2, 3]})"
      ]
     },
     "execution_count": 12,
     "metadata": {},
     "output_type": "execute_result"
    }
   ],
   "source": [
    "decision_tree = DecisionTreeClassifier(max_depth=20)\n",
    "clf = GridSearchCV(decision_tree, parameters, cv=5,n_jobs=13)\n",
    "clf.fit(X_train, y_train)"
   ]
  },
  {
   "cell_type": "code",
   "execution_count": 13,
   "id": "e51a6490",
   "metadata": {},
   "outputs": [
    {
     "name": "stdout",
     "output_type": "stream",
     "text": [
      "DecisionTreeClassifier(max_depth=8, max_leaf_nodes=500, min_samples_split=10,\n",
      "                       random_state=3)\n",
      "{'criterion': 'gini', 'max_depth': 8, 'max_features': None, 'max_leaf_nodes': 500, 'min_samples_split': 10, 'random_state': 3}\n",
      "0.6504689610247272\n"
     ]
    }
   ],
   "source": [
    "print(clf.best_estimator_)\n",
    "print(clf.best_params_)\n",
    "print(clf.best_score_)"
   ]
  },
  {
   "cell_type": "code",
   "execution_count": 14,
   "id": "a889e193",
   "metadata": {},
   "outputs": [
    {
     "ename": "TypeError",
     "evalue": "draw_validation_curve() takes 4 positional arguments but 7 were given",
     "output_type": "error",
     "traceback": [
      "\u001b[0;31m---------------------------------------------------------------------------\u001b[0m",
      "\u001b[0;31mTypeError\u001b[0m                                 Traceback (most recent call last)",
      "\u001b[0;32m<ipython-input-14-d14125083e59>\u001b[0m in \u001b[0;36m<module>\u001b[0;34m\u001b[0m\n\u001b[0;32m----> 1\u001b[0;31m \u001b[0mdraw_validation_curve\u001b[0m\u001b[0;34m(\u001b[0m\u001b[0;34m'DecisionTree'\u001b[0m\u001b[0;34m,\u001b[0m\u001b[0mDecisionTreeClassifier\u001b[0m\u001b[0;34m(\u001b[0m\u001b[0;34m)\u001b[0m\u001b[0;34m,\u001b[0m\u001b[0mX_train\u001b[0m\u001b[0;34m,\u001b[0m \u001b[0my_train\u001b[0m\u001b[0;34m,\u001b[0m\u001b[0;34m'max_depth'\u001b[0m\u001b[0;34m,\u001b[0m\u001b[0;36m5\u001b[0m\u001b[0;34m,\u001b[0m\u001b[0;36m13\u001b[0m\u001b[0;34m)\u001b[0m\u001b[0;34m\u001b[0m\u001b[0;34m\u001b[0m\u001b[0m\n\u001b[0m",
      "\u001b[0;31mTypeError\u001b[0m: draw_validation_curve() takes 4 positional arguments but 7 were given"
     ]
    }
   ],
   "source": [
    "draw_validation_curve('DecisionTree',DecisionTreeClassifier(),X_train, y_train,'max_depth',5,13)"
   ]
  },
  {
   "cell_type": "code",
   "execution_count": null,
   "id": "22b052a9",
   "metadata": {},
   "outputs": [],
   "source": [
    "draw_validation_curve('DecisionTree',DecisionTreeClassifier(),X_train, y_train,'max_leaf_nodes',5,13)"
   ]
  },
  {
   "cell_type": "code",
   "execution_count": null,
   "id": "c481a6cb",
   "metadata": {},
   "outputs": [],
   "source": [
    "draw_validation_curve('DecisionTree',DecisionTreeClassifier(),X_train, y_train,'min_samples_split',5,13)"
   ]
  },
  {
   "cell_type": "code",
   "execution_count": 15,
   "id": "80f476d1",
   "metadata": {},
   "outputs": [
    {
     "ename": "NameError",
     "evalue": "name 'cv' is not defined",
     "output_type": "error",
     "traceback": [
      "\u001b[0;31m---------------------------------------------------------------------------\u001b[0m",
      "\u001b[0;31mNameError\u001b[0m                                 Traceback (most recent call last)",
      "\u001b[0;32m<ipython-input-15-cb5bdc6c7b02>\u001b[0m in \u001b[0;36m<module>\u001b[0;34m\u001b[0m\n\u001b[1;32m      1\u001b[0m train_sizes, train_scores, test_scores =learning_curve(DecisionTreeClassifier(criterion=\"entropy\",\\\n\u001b[1;32m      2\u001b[0m                                        max_depth=4,max_leaf_nodes=10,random_state=3,max_features='log2',min_samples_split=2),\\\n\u001b[0;32m----> 3\u001b[0;31m     X_train, y_train, cv=cv, n_jobs=13,train_sizes=[.2,.3,.4,.5,.6,.7,.8,.9])\n\u001b[0m\u001b[1;32m      4\u001b[0m \u001b[0;34m\u001b[0m\u001b[0m\n\u001b[1;32m      5\u001b[0m \u001b[0mdraw_learning_curve\u001b[0m\u001b[0;34m(\u001b[0m\u001b[0;34m'Decision Tree'\u001b[0m\u001b[0;34m,\u001b[0m \u001b[0mtrain_sizes\u001b[0m\u001b[0;34m,\u001b[0m \u001b[0mtrain_scores\u001b[0m\u001b[0;34m,\u001b[0m \u001b[0mtest_scores\u001b[0m\u001b[0;34m)\u001b[0m\u001b[0;34m\u001b[0m\u001b[0;34m\u001b[0m\u001b[0m\n",
      "\u001b[0;31mNameError\u001b[0m: name 'cv' is not defined"
     ]
    }
   ],
   "source": [
    "train_sizes, train_scores, test_scores =learning_curve(DecisionTreeClassifier(criterion=\"entropy\",\\\n",
    "                                       max_depth=4,max_leaf_nodes=10,random_state=3,max_features='log2',min_samples_split=2),\\\n",
    "    X_train, y_train, cv=cv, n_jobs=13,train_sizes=[.2,.3,.4,.5,.6,.7,.8,.9])\n",
    "\n",
    "draw_learning_curve('Decision Tree', train_sizes, train_scores, test_scores)"
   ]
  },
  {
   "cell_type": "code",
   "execution_count": 47,
   "id": "ca01a463",
   "metadata": {},
   "outputs": [
    {
     "data": {
      "text/plain": [
       "'chess_dt.dot.pdf'"
      ]
     },
     "execution_count": 47,
     "metadata": {},
     "output_type": "execute_result"
    }
   ],
   "source": [
    "\n",
    "# visualization of decision tree\n",
    "clf =  DecisionTreeClassifier(random_state=3, criterion='gini', max_depth=2)\n",
    "clf = clf.fit(X_train, y_train)\n",
    "features = list(X_train.columns.values)\n",
    "dot_data = tree.export_graphviz(clf, out_file=None, \n",
    "                        feature_names=features,  \n",
    "                        class_names=list(map(str, set(y))),  \n",
    "                        filled=True, rounded=True,  \n",
    "                        special_characters=True)\n",
    "graph = graphviz.Source(dot_data)\n",
    "graph.render(filename='chess_dt.dot')"
   ]
  },
  {
   "cell_type": "code",
   "execution_count": null,
   "id": "ca379cc2",
   "metadata": {},
   "outputs": [],
   "source": [
    "## Boosting"
   ]
  },
  {
   "cell_type": "code",
   "execution_count": 18,
   "id": "39a37c0a",
   "metadata": {},
   "outputs": [
    {
     "name": "stdout",
     "output_type": "stream",
     "text": [
      "320.7325699329376\n"
     ]
    }
   ],
   "source": [
    "parameters = {\\\n",
    "'learning_rate':[0.25,0.5,0.75,1.0,1.5,2],\\\n",
    "'random_state':[1,2,3],\\\n",
    "'n_estimators':[10,20,30,40,50]}\n",
    "cv = ShuffleSplit(n_splits=10, test_size=0.25, random_state=0)\n",
    "dt = DecisionTreeClassifier(max_depth=20,min_samples_split=75)\n",
    "alf = AdaBoostClassifier(base_estimator = dt)\n",
    "start = time.time()\n",
    "clf = GridSearchCV(alf, parameters, cv=cv,n_jobs=14)\n",
    "clf.fit(X_train, y_train)\n",
    "end = time.time()\n",
    "total = end - start\n",
    "print(total)"
   ]
  },
  {
   "cell_type": "code",
   "execution_count": 19,
   "id": "a4883bc0",
   "metadata": {},
   "outputs": [
    {
     "name": "stdout",
     "output_type": "stream",
     "text": [
      "AdaBoostClassifier(base_estimator=DecisionTreeClassifier(max_depth=20,\n",
      "                                                         min_samples_split=75),\n",
      "                   learning_rate=0.25, n_estimators=10, random_state=3)\n",
      "{'learning_rate': 0.25, 'n_estimators': 10, 'random_state': 3}\n",
      "0.6693964371177878\n"
     ]
    }
   ],
   "source": [
    "print(clf.best_estimator_)\n",
    "print(clf.best_params_)\n",
    "print(clf.best_score_)"
   ]
  },
  {
   "cell_type": "code",
   "execution_count": 20,
   "id": "7da51665",
   "metadata": {},
   "outputs": [
    {
     "name": "stderr",
     "output_type": "stream",
     "text": [
      "/Users/sam/opt/anaconda3/lib/python3.8/site-packages/sklearn/utils/validation.py:70: FutureWarning: Pass param_name=learning_rate, param_range=[0.1        0.13877551 0.17755102 0.21632653 0.25510204 0.29387755\n",
      " 0.33265306 0.37142857 0.41020408 0.44897959 0.4877551  0.52653061\n",
      " 0.56530612 0.60408163 0.64285714 0.68163265 0.72040816 0.75918367\n",
      " 0.79795918 0.83673469 0.8755102  0.91428571 0.95306122 0.99183673\n",
      " 1.03061224 1.06938776 1.10816327 1.14693878 1.18571429 1.2244898\n",
      " 1.26326531 1.30204082 1.34081633 1.37959184 1.41836735 1.45714286\n",
      " 1.49591837 1.53469388 1.57346939 1.6122449  1.65102041 1.68979592\n",
      " 1.72857143 1.76734694 1.80612245 1.84489796 1.88367347 1.92244898\n",
      " 1.96122449 2.        ] as keyword args. From version 1.0 (renaming of 0.25) passing these as positional arguments will result in an error\n",
      "  warnings.warn(f\"Pass {args_msg} as keyword args. From version \"\n"
     ]
    },
    {
     "data": {
      "image/png": "[encoded data removed]",
      "text/plain": [
       "<Figure size 432x288 with 1 Axes>"
      ]
     },
     "metadata": {
      "needs_background": "light"
     },
     "output_type": "display_data"
    }
   ],
   "source": [
    "train_scores, valid_scores = validation_curve(AdaBoostClassifier(base_estimator = dt),\\\n",
    "                                              X_train, y_train,'learning_rate',\\\n",
    "                                              np.linspace(start=0.1,stop=2,num=50),cv=5,n_jobs=14)\n",
    "draw_validation_curve('ADAboosting', 'learning_rate', train_scores, valid_scores)"
   ]
  },
  {
   "cell_type": "code",
   "execution_count": 22,
   "id": "d85f86b5",
   "metadata": {},
   "outputs": [
    {
     "name": "stderr",
     "output_type": "stream",
     "text": [
      "/Users/sam/opt/anaconda3/lib/python3.8/site-packages/sklearn/utils/validation.py:70: FutureWarning: Pass param_name=n_estimators, param_range=[10 11 12 13 14 15 16 17 18 19 20 21 22 23 24 25 26 27 28 29 30 31 32 33\n",
      " 34 35 36 37 38 39 40 41 42 43 44 45 46 47 48 49 50 51 52 53 54 55 56 57\n",
      " 58 59 60 61 62 63 64 65 66 67 68 69] as keyword args. From version 1.0 (renaming of 0.25) passing these as positional arguments will result in an error\n",
      "  warnings.warn(f\"Pass {args_msg} as keyword args. From version \"\n"
     ]
    },
    {
     "data": {
      "image/png": "[encoded data removed]",
      "text/plain": [
       "<Figure size 432x288 with 1 Axes>"
      ]
     },
     "metadata": {
      "needs_background": "light"
     },
     "output_type": "display_data"
    }
   ],
   "source": [
    "train_scores, valid_scores = validation_curve(AdaBoostClassifier(base_estimator = dt), \\\n",
    "                                              X_train, y_train,'n_estimators',\\\n",
    "                                              np.arange(start=10,stop=70),cv=5,n_jobs=14)\n",
    "draw_validation_curve('ADAboosting', 'n_estimators', train_scores, valid_scores)"
   ]
  },
  {
   "cell_type": "code",
   "execution_count": 23,
   "id": "c5408aa7",
   "metadata": {},
   "outputs": [
    {
     "name": "stdout",
     "output_type": "stream",
     "text": [
      "<function confusion_matrix at 0x7ffed5768790>\n"
     ]
    },
    {
     "data": {
      "image/png": "[encoded data removed]",
      "text/plain": [
       "<Figure size 432x288 with 1 Axes>"
      ]
     },
     "metadata": {
      "needs_background": "light"
     },
     "output_type": "display_data"
    }
   ],
   "source": [
    "cv = ShuffleSplit(n_splits=10, test_size=0.25, random_state=0)\n",
    "train_sizes, train_scores, test_scores =\\\n",
    " learning_curve(AdaBoostClassifier(base_estimator = dt,learning_rate=1.0,random_state=3,n_estimators=50),\\\n",
    " X_train, y_train, cv=cv, n_jobs=14,\\\n",
    "  train_sizes=[.2,.3,.4,.5,.6,.7,.8,.9])\n",
    "draw_learning_curve('Boosting', train_sizes, train_scores, test_scores)"
   ]
  },
  {
   "cell_type": "markdown",
   "id": "fe63891b",
   "metadata": {},
   "source": [
    "## k-Nearest Neighbors"
   ]
  },
  {
   "cell_type": "code",
   "execution_count": 24,
   "id": "827488f6",
   "metadata": {},
   "outputs": [
    {
     "data": {
      "text/plain": [
       "GridSearchCV(cv=5, estimator=KNeighborsClassifier(), n_jobs=13,\n",
       "             param_grid={'algorithm': ('auto', 'ball_tree', 'kd_tree', 'brute'),\n",
       "                         'leaf_size': [4, 6, 8, 10, 12, 14],\n",
       "                         'n_neighbors': [1, 3, 5, 7, 10, 15, 20]})"
      ]
     },
     "execution_count": 24,
     "metadata": {},
     "output_type": "execute_result"
    }
   ],
   "source": [
    "parameters = {'algorithm':('auto','ball_tree','kd_tree','brute'),'n_neighbors':[1,3,5,7,10,15,20],\\\n",
    "              'leaf_size':[4,6,8,10,12,14]}\n",
    "cv = ShuffleSplit(n_splits=10, test_size=0.25, random_state=0)\n",
    "dt = KNeighborsClassifier()\n",
    "clf = GridSearchCV(dt, parameters, cv=5,n_jobs=13)\n",
    "clf.fit(X_train, y_train)"
   ]
  },
  {
   "cell_type": "code",
   "execution_count": 25,
   "id": "0939f97d",
   "metadata": {},
   "outputs": [
    {
     "name": "stdout",
     "output_type": "stream",
     "text": [
      "KNeighborsClassifier(leaf_size=4, n_neighbors=15)\n",
      "{'algorithm': 'auto', 'leaf_size': 4, 'n_neighbors': 15}\n",
      "0.6003456386160668\n"
     ]
    }
   ],
   "source": [
    "print(clf.best_estimator_)\n",
    "print(clf.best_params_)\n",
    "print(clf.best_score_)"
   ]
  },
  {
   "cell_type": "code",
   "execution_count": 26,
   "id": "580e4aaa",
   "metadata": {},
   "outputs": [
    {
     "ename": "TypeError",
     "evalue": "draw_validation_curve() takes 4 positional arguments but 7 were given",
     "output_type": "error",
     "traceback": [
      "\u001b[0;31m---------------------------------------------------------------------------\u001b[0m",
      "\u001b[0;31mTypeError\u001b[0m                                 Traceback (most recent call last)",
      "\u001b[0;32m<ipython-input-26-7161429c0e29>\u001b[0m in \u001b[0;36m<module>\u001b[0;34m\u001b[0m\n\u001b[0;32m----> 1\u001b[0;31m \u001b[0mdraw_validation_curve\u001b[0m\u001b[0;34m(\u001b[0m\u001b[0;34m'KNeighbors'\u001b[0m\u001b[0;34m,\u001b[0m \u001b[0mKNeighborsClassifier\u001b[0m\u001b[0;34m(\u001b[0m\u001b[0;34m)\u001b[0m\u001b[0;34m,\u001b[0m\u001b[0mX_train\u001b[0m\u001b[0;34m,\u001b[0m \u001b[0my_train\u001b[0m\u001b[0;34m,\u001b[0m\u001b[0;34m'n_neighbors'\u001b[0m\u001b[0;34m,\u001b[0m \u001b[0mcv\u001b[0m \u001b[0;34m,\u001b[0m\u001b[0;36m13\u001b[0m\u001b[0;34m)\u001b[0m\u001b[0;34m\u001b[0m\u001b[0;34m\u001b[0m\u001b[0m\n\u001b[0m",
      "\u001b[0;31mTypeError\u001b[0m: draw_validation_curve() takes 4 positional arguments but 7 were given"
     ]
    }
   ],
   "source": [
    "draw_validation_curve('KNeighbors', KNeighborsClassifier(),X_train, y_train,'n_neighbors', cv ,13)"
   ]
  },
  {
   "cell_type": "code",
   "execution_count": 27,
   "id": "67e8b366",
   "metadata": {},
   "outputs": [
    {
     "name": "stdout",
     "output_type": "stream",
     "text": [
      "<function confusion_matrix at 0x7ffed5768790>\n"
     ]
    },
    {
     "data": {
      "image/png": "[encoded data removed]",
      "text/plain": [
       "<Figure size 432x288 with 1 Axes>"
      ]
     },
     "metadata": {
      "needs_background": "light"
     },
     "output_type": "display_data"
    }
   ],
   "source": [
    "\n",
    "train_sizes, train_scores, test_scores =\\\n",
    " learning_curve(KNeighborsClassifier(algorithm='auto',n_neighbors=10,leaf_size=4),\\\n",
    "                X_train, y_train, cv=cv, n_jobs=13,\\\n",
    "  train_sizes=[.1,.2,.3,.4,.5,.6,.7,.8,.9,1])\n",
    "draw_learning_curve('KNeighbors' , train_sizes, train_scores, test_scores)"
   ]
  },
  {
   "cell_type": "code",
   "execution_count": null,
   "id": "d06687ba",
   "metadata": {},
   "outputs": [],
   "source": [
    "## Support Vector Machines"
   ]
  },
  {
   "cell_type": "code",
   "execution_count": 28,
   "id": "c42bc08b",
   "metadata": {},
   "outputs": [
    {
     "data": {
      "text/plain": [
       "GridSearchCV(cv=5, estimator=SVC(cache_size=15000), n_jobs=10,\n",
       "             param_grid={'C': [0.0001, 0.001, 0.01, 0.1, 1.0, 1.01, 1.001,\n",
       "                               1.0001],\n",
       "                         'gamma': array([  0.1       ,   0.16378937,   0.26826958,   0.43939706,\n",
       "         0.71968567,   1.17876863,   1.93069773,   3.16227766,\n",
       "         5.17947468,   8.48342898,  13.89495494,  22.75845926,\n",
       "        37.2759372 ,  61.05402297, 100.        ]),\n",
       "                         'kernel': ('rbf', 'linear')})"
      ]
     },
     "execution_count": 28,
     "metadata": {},
     "output_type": "execute_result"
    }
   ],
   "source": [
    "X = preprocessing.scale(X_train)\n",
    "parameters = {'kernel':('rbf','linear'),\\\n",
    "'C':[0.0001,0.001,0.01,0.1,1.0,1.01,1.001,1.0001],\\\n",
    "'gamma':np.logspace(start=-1, stop=2, num=15)}\n",
    "svm_i = svm.SVC(cache_size=15000)\n",
    "clf = GridSearchCV(svm_i, parameters, cv=5,n_jobs=10)\n",
    "clf.fit(X, y_train)"
   ]
  },
  {
   "cell_type": "code",
   "execution_count": 29,
   "id": "1e8d6632",
   "metadata": {},
   "outputs": [
    {
     "name": "stdout",
     "output_type": "stream",
     "text": [
      "SVC(C=0.1, cache_size=15000, gamma=0.1, kernel='linear')\n",
      "{'C': 0.1, 'gamma': 0.1, 'kernel': 'linear'}\n",
      "0.6644956752084173\n"
     ]
    }
   ],
   "source": [
    "print(clf.best_estimator_)\n",
    "print(clf.best_params_)\n",
    "print(clf.best_score_)"
   ]
  },
  {
   "cell_type": "code",
   "execution_count": 30,
   "id": "c7613152",
   "metadata": {},
   "outputs": [
    {
     "name": "stderr",
     "output_type": "stream",
     "text": [
      "/Users/sam/opt/anaconda3/lib/python3.8/site-packages/sklearn/utils/validation.py:70: FutureWarning: Pass param_name=C, param_range=[1.00000000e-04 4.09142857e-02 8.17285714e-02 1.22542857e-01\n",
      " 1.63357143e-01 2.04171429e-01 2.44985714e-01 2.85800000e-01\n",
      " 3.26614286e-01 3.67428571e-01 4.08242857e-01 4.49057143e-01\n",
      " 4.89871429e-01 5.30685714e-01 5.71500000e-01 6.12314286e-01\n",
      " 6.53128571e-01 6.93942857e-01 7.34757143e-01 7.75571429e-01\n",
      " 8.16385714e-01 8.57200000e-01 8.98014286e-01 9.38828571e-01\n",
      " 9.79642857e-01 1.02045714e+00 1.06127143e+00 1.10208571e+00\n",
      " 1.14290000e+00 1.18371429e+00 1.22452857e+00 1.26534286e+00\n",
      " 1.30615714e+00 1.34697143e+00 1.38778571e+00 1.42860000e+00\n",
      " 1.46941429e+00 1.51022857e+00 1.55104286e+00 1.59185714e+00\n",
      " 1.63267143e+00 1.67348571e+00 1.71430000e+00 1.75511429e+00\n",
      " 1.79592857e+00 1.83674286e+00 1.87755714e+00 1.91837143e+00\n",
      " 1.95918571e+00 2.00000000e+00] as keyword args. From version 1.0 (renaming of 0.25) passing these as positional arguments will result in an error\n",
      "  warnings.warn(f\"Pass {args_msg} as keyword args. From version \"\n"
     ]
    },
    {
     "data": {
      "image/png": "[encoded data removed]",
      "text/plain": [
       "<Figure size 432x288 with 1 Axes>"
      ]
     },
     "metadata": {
      "needs_background": "light"
     },
     "output_type": "display_data"
    }
   ],
   "source": [
    "train_scores, valid_scores = validation_curve(svm.SVC(cache_size=15000), X_train, y_train,'C',\\\n",
    "                                              np.linspace(start=.0001,stop=2),cv=cv, n_jobs=14)\n",
    "draw_validation_curve('SVM', 'C', train_scores, valid_scores)"
   ]
  },
  {
   "cell_type": "code",
   "execution_count": 31,
   "id": "e924ef71",
   "metadata": {},
   "outputs": [
    {
     "name": "stderr",
     "output_type": "stream",
     "text": [
      "/Users/sam/opt/anaconda3/lib/python3.8/site-packages/sklearn/utils/validation.py:70: FutureWarning: Pass param_name=gamma, param_range=[  0.1          0.11513954   0.13257114   0.1526418    0.17575106\n",
      "   0.20235896   0.23299518   0.26826958   0.30888436   0.35564803\n",
      "   0.40949151   0.47148664   0.54286754   0.62505519   0.71968567\n",
      "   0.82864277   0.95409548   1.09854114   1.26485522   1.45634848\n",
      "   1.67683294   1.93069773   2.22299648   2.55954792   2.9470517\n",
      "   3.39322177   3.90693994   4.49843267   5.17947468   5.96362332\n",
      "   6.86648845   7.90604321   9.10298178  10.48113134  12.06792641\n",
      "  13.89495494  15.9985872   18.42069969  21.20950888  24.42053095\n",
      "  28.11768698  32.37457543  37.2759372   42.9193426   49.41713361\n",
      "  56.89866029  65.51285569  75.43120063  86.85113738 100.        ] as keyword args. From version 1.0 (renaming of 0.25) passing these as positional arguments will result in an error\n",
      "  warnings.warn(f\"Pass {args_msg} as keyword args. From version \"\n"
     ]
    },
    {
     "data": {
      "image/png": "[encoded data removed]",
      "text/plain": [
       "<Figure size 432x288 with 1 Axes>"
      ]
     },
     "metadata": {
      "needs_background": "light"
     },
     "output_type": "display_data"
    }
   ],
   "source": [
    "\n",
    "train_scores, valid_scores = validation_curve(svm.SVC(cache_size=15000), \\\n",
    "                                              X_train, y_train,'gamma',\\\n",
    "                                              np.logspace(start=-1, stop=2),cv=cv, n_jobs=14)\n",
    "draw_validation_curve('SVM', 'gamma', train_scores, valid_scores)"
   ]
  },
  {
   "cell_type": "code",
   "execution_count": 32,
   "id": "c3dc8fed",
   "metadata": {},
   "outputs": [
    {
     "name": "stdout",
     "output_type": "stream",
     "text": [
      "<function confusion_matrix at 0x7ffed5768790>\n"
     ]
    },
    {
     "data": {
      "image/png": "[encoded data removed]",
      "text/plain": [
       "<Figure size 432x288 with 1 Axes>"
      ]
     },
     "metadata": {
      "needs_background": "light"
     },
     "output_type": "display_data"
    }
   ],
   "source": [
    "\n",
    "train_sizes, train_scores, test_scores =\\\n",
    " learning_curve(svm.SVC(cache_size=15000,C=1.001,kernel='rbf',tol=0.5,gamma=0.1),\\\n",
    " X_train, y_train, cv=cv, n_jobs=14,\\\n",
    "  train_sizes=[.2,.3,.4,.5,.6,.7,.8,.9])\n",
    "draw_learning_curve('SVM', train_sizes, train_scores, test_scores)"
   ]
  },
  {
   "cell_type": "code",
   "execution_count": 33,
   "id": "912a219b",
   "metadata": {},
   "outputs": [],
   "source": [
    "## Neural Networks"
   ]
  },
  {
   "cell_type": "code",
   "execution_count": 34,
   "id": "bb6d1b3b",
   "metadata": {},
   "outputs": [],
   "source": [
    "\n",
    "parameters = {'activation':('identity','logistic','tanh','relu'),\\\n",
    "'alpha':[0.0001,0.001,0.01],\\\n",
    "'learning_rate':('constant','invscaling','adaptive'),\\\n",
    "'learning_rate_init':[0.0001,0.001,0.01,.1],\\\n",
    "'hidden_layer_sizes':[(2,), (5,), (10,)]}\n",
    "cv = ShuffleSplit(n_splits=10, test_size=0.2, random_state=0)\n",
    "mlp = MLPClassifier(max_iter=2000)\n",
    "start = time.time()\n",
    "clf = GridSearchCV(mlp, parameters, cv=5,n_jobs=14)\n",
    "clf.fit(X_train, y_train)\n",
    "end = time.time()\n",
    "total = end - start"
   ]
  },
  {
   "cell_type": "code",
   "execution_count": 35,
   "id": "51ca73dd",
   "metadata": {},
   "outputs": [
    {
     "name": "stdout",
     "output_type": "stream",
     "text": [
      "MLPClassifier(activation='logistic', hidden_layer_sizes=(10,),\n",
      "              learning_rate='adaptive', learning_rate_init=0.0001,\n",
      "              max_iter=2000)\n",
      "{'activation': 'logistic', 'alpha': 0.0001, 'hidden_layer_sizes': (10,), 'learning_rate': 'adaptive', 'learning_rate_init': 0.0001}\n",
      "0.6644289206847542\n"
     ]
    }
   ],
   "source": [
    "print(clf.best_estimator_)\n",
    "print(clf.best_params_)\n",
    "print(clf.best_score_)"
   ]
  },
  {
   "cell_type": "code",
   "execution_count": 36,
   "id": "d0b20beb",
   "metadata": {},
   "outputs": [
    {
     "name": "stderr",
     "output_type": "stream",
     "text": [
      "/Users/sam/opt/anaconda3/lib/python3.8/site-packages/sklearn/utils/validation.py:70: FutureWarning: Pass param_name=alpha, param_range=[1.00000000e-06 1.18367347e-06 1.36734694e-06 1.55102041e-06\n",
      " 1.73469388e-06 1.91836735e-06 2.10204082e-06 2.28571429e-06\n",
      " 2.46938776e-06 2.65306122e-06 2.83673469e-06 3.02040816e-06\n",
      " 3.20408163e-06 3.38775510e-06 3.57142857e-06 3.75510204e-06\n",
      " 3.93877551e-06 4.12244898e-06 4.30612245e-06 4.48979592e-06\n",
      " 4.67346939e-06 4.85714286e-06 5.04081633e-06 5.22448980e-06\n",
      " 5.40816327e-06 5.59183673e-06 5.77551020e-06 5.95918367e-06\n",
      " 6.14285714e-06 6.32653061e-06 6.51020408e-06 6.69387755e-06\n",
      " 6.87755102e-06 7.06122449e-06 7.24489796e-06 7.42857143e-06\n",
      " 7.61224490e-06 7.79591837e-06 7.97959184e-06 8.16326531e-06\n",
      " 8.34693878e-06 8.53061224e-06 8.71428571e-06 8.89795918e-06\n",
      " 9.08163265e-06 9.26530612e-06 9.44897959e-06 9.63265306e-06\n",
      " 9.81632653e-06 1.00000000e-05] as keyword args. From version 1.0 (renaming of 0.25) passing these as positional arguments will result in an error\n",
      "  warnings.warn(f\"Pass {args_msg} as keyword args. From version \"\n"
     ]
    },
    {
     "data": {
      "image/png": "[encoded data removed]",
      "text/plain": [
       "<Figure size 432x288 with 1 Axes>"
      ]
     },
     "metadata": {
      "needs_background": "light"
     },
     "output_type": "display_data"
    }
   ],
   "source": [
    "train_scores, valid_scores = validation_curve(MLPClassifier(max_iter=2000), X_train, y_train,'alpha',\\\n",
    "                                              np.linspace(start=0.000001,stop=0.00001),cv=5,n_jobs=14)\n",
    "draw_validation_curve('NN', 'alpha', train_scores, valid_scores)"
   ]
  },
  {
   "cell_type": "code",
   "execution_count": 37,
   "id": "aa1064c0",
   "metadata": {},
   "outputs": [
    {
     "name": "stderr",
     "output_type": "stream",
     "text": [
      "/Users/sam/opt/anaconda3/lib/python3.8/site-packages/sklearn/utils/validation.py:70: FutureWarning: Pass param_name=learning_rate_init, param_range=[1.00000000e-04 8.26122449e-03 1.64224490e-02 2.45836735e-02\n",
      " 3.27448980e-02 4.09061224e-02 4.90673469e-02 5.72285714e-02\n",
      " 6.53897959e-02 7.35510204e-02 8.17122449e-02 8.98734694e-02\n",
      " 9.80346939e-02 1.06195918e-01 1.14357143e-01 1.22518367e-01\n",
      " 1.30679592e-01 1.38840816e-01 1.47002041e-01 1.55163265e-01\n",
      " 1.63324490e-01 1.71485714e-01 1.79646939e-01 1.87808163e-01\n",
      " 1.95969388e-01 2.04130612e-01 2.12291837e-01 2.20453061e-01\n",
      " 2.28614286e-01 2.36775510e-01 2.44936735e-01 2.53097959e-01\n",
      " 2.61259184e-01 2.69420408e-01 2.77581633e-01 2.85742857e-01\n",
      " 2.93904082e-01 3.02065306e-01 3.10226531e-01 3.18387755e-01\n",
      " 3.26548980e-01 3.34710204e-01 3.42871429e-01 3.51032653e-01\n",
      " 3.59193878e-01 3.67355102e-01 3.75516327e-01 3.83677551e-01\n",
      " 3.91838776e-01 4.00000000e-01] as keyword args. From version 1.0 (renaming of 0.25) passing these as positional arguments will result in an error\n",
      "  warnings.warn(f\"Pass {args_msg} as keyword args. From version \"\n"
     ]
    },
    {
     "data": {
      "image/png": "[encoded data removed]",
      "text/plain": [
       "<Figure size 432x288 with 1 Axes>"
      ]
     },
     "metadata": {
      "needs_background": "light"
     },
     "output_type": "display_data"
    }
   ],
   "source": [
    "train_scores, valid_scores = validation_curve(MLPClassifier(max_iter=2000), X_train, y_train,'learning_rate_init',\\\n",
    "                                              np.linspace(start=0.0001,stop=0.4),cv=5,n_jobs=14)\n",
    "\n",
    "draw_validation_curve('NN', 'learning_rate_init', train_scores, valid_scores)"
   ]
  },
  {
   "cell_type": "code",
   "execution_count": 38,
   "id": "17673150",
   "metadata": {},
   "outputs": [
    {
     "name": "stderr",
     "output_type": "stream",
     "text": [
      "/Users/sam/opt/anaconda3/lib/python3.8/site-packages/sklearn/utils/validation.py:70: FutureWarning: Pass param_name=hidden_layer_sizes, param_range=[(2,), (5,), (10,)] as keyword args. From version 1.0 (renaming of 0.25) passing these as positional arguments will result in an error\n",
      "  warnings.warn(f\"Pass {args_msg} as keyword args. From version \"\n"
     ]
    },
    {
     "data": {
      "image/png": "[encoded data removed]",
      "text/plain": [
       "<Figure size 432x288 with 1 Axes>"
      ]
     },
     "metadata": {
      "needs_background": "light"
     },
     "output_type": "display_data"
    }
   ],
   "source": [
    "\n",
    "train_scores, valid_scores = validation_curve(MLPClassifier(max_iter=2000), \\\n",
    "                                              X_train, y_train,'hidden_layer_sizes',\\\n",
    "                                              [(2,), (5,), (10,)],cv=5,n_jobs=13)\n",
    "draw_validation_curve('NN', 'hidden_layer_sizes', train_scores, valid_scores)"
   ]
  },
  {
   "cell_type": "code",
   "execution_count": 39,
   "id": "b82eaea2",
   "metadata": {},
   "outputs": [
    {
     "name": "stdout",
     "output_type": "stream",
     "text": [
      "<function confusion_matrix at 0x7ffed5768790>\n"
     ]
    },
    {
     "data": {
      "image/png": "[encoded data removed]",
      "text/plain": [
       "<Figure size 432x288 with 1 Axes>"
      ]
     },
     "metadata": {
      "needs_background": "light"
     },
     "output_type": "display_data"
    }
   ],
   "source": [
    "\n",
    "train_sizes, train_scores, test_scores =\\\n",
    " learning_curve(MLPClassifier(activation='tanh',alpha=0.001,max_iter=2000,\\\n",
    "                              learning_rate='invscaling',learning_rate_init=0.001,hidden_layer_sizes=(10,)),\\\n",
    " X_train, y_train, cv=cv, n_jobs=14,\\\n",
    "  train_sizes=[.2,.3,.4,.5,.6,.7,.8,.9])\n",
    "draw_learning_curve('Neural network', train_sizes, train_scores, test_scores)"
   ]
  },
  {
   "cell_type": "code",
   "execution_count": null,
   "id": "df2bcc6a",
   "metadata": {},
   "outputs": [],
   "source": []
  }
 ],
 "metadata": {
  "kernelspec": {
   "display_name": "Python 3",
   "language": "python",
   "name": "python3"
  },
  "language_info": {
   "codemirror_mode": {
    "name": "ipython",
    "version": 3
   },
   "file_extension": ".py",
   "mimetype": "text/x-python",
   "name": "python",
   "nbconvert_exporter": "python",
   "pygments_lexer": "ipython3",
   "version": "3.8.8"
  }
 },
 "nbformat": 4,
 "nbformat_minor": 5
}
